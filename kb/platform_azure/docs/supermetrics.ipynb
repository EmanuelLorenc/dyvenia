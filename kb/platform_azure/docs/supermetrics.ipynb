{
 "cells": [
  {
   "cell_type": "markdown",
   "id": "6048bfd9",
   "metadata": {},
   "source": [
    "## Getting params from existing PowerBI query"
   ]
  },
  {
   "cell_type": "code",
   "execution_count": 49,
   "id": "870d860d",
   "metadata": {},
   "outputs": [
    {
     "data": {
      "text/plain": [
       "{'a': 'b'}"
      ]
     },
     "execution_count": 49,
     "metadata": {},
     "output_type": "execute_result"
    }
   ],
   "source": [
    "import urllib\n",
    "import json\n",
    "\n",
    "url = \"\"\"https://api.supermetrics.com/enterprise/v2/query/data/powerbi?json={\"a\":\"b\"}\"\"\"\n",
    "url_unquoted = urllib.parse.unquote(url)\n",
    "s = urllib.parse.parse_qs(url_unquoted)\n",
    "params = s[\"https://api.supermetrics.com/enterprise/v2/query/data/powerbi?json\"][0]\n",
    "params_d = json.loads(params)\n",
    "params_d"
   ]
  },
  {
   "cell_type": "markdown",
   "id": "221e2c65",
   "metadata": {},
   "source": [
    "## Downloading data\n",
    "\n",
    "Example"
   ]
  },
  {
   "cell_type": "code",
   "execution_count": 52,
   "id": "208d7fb8",
   "metadata": {},
   "outputs": [
    {
     "data": {
      "text/plain": [
       "[['Date',\n",
       "  'Account',\n",
       "  'Campaign name',\n",
       "  'Impressions',\n",
       "  'Clicks',\n",
       "  'Cost (EUR)',\n",
       "  'Search impression share'],\n",
       " ['2020-01-01',\n",
       "  'VELUXSCoE - FR',\n",
       "  'FR : 00 : Brand VELUX (Exact)',\n",
       "  812,\n",
       "  327,\n",
       "  55.88,\n",
       "  0.9409],\n",
       " ['2020-01-01',\n",
       "  'VELUXSCoE - FR',\n",
       "  'FR : 00 : Brand VELUX (PHRASE)',\n",
       "  2406,\n",
       "  266,\n",
       "  198.39,\n",
       "  0.3636],\n",
       " ['2020-01-01',\n",
       "  'VELUXSCoE - FR',\n",
       "  'FR : 01 : Brand VELUX Flat Roof Window - Coupoles',\n",
       "  1,\n",
       "  0,\n",
       "  0,\n",
       "  0.5]]"
      ]
     },
     "execution_count": 52,
     "metadata": {},
     "output_type": "execute_result"
    }
   ],
   "source": [
    "import requests\n",
    "import urllib\n",
    "import os\n",
    "\n",
    "# os.environ[\"SUPERMETRICS_API_KEY\"] = \n",
    "SUPERMETRICS_API_KEY = os.environ[\"SUPERMETRICS_API_KEY\"]\n",
    "\n",
    "base_url = \"https://api.supermetrics.com/enterprise/v2/query/data/json\"\n",
    "json_params = {\n",
    "        \"ds_id\": \"AW\",\n",
    "        \"ds_accounts\": [\"1007802423\"],\n",
    "        \"ds_user\": \"google@velux.com\",\n",
    "        \"date_range_type\": \"last_year_inc\",\n",
    "        \"fields\": [\"Date\",\n",
    "        \"profile\",\n",
    "        \"Campaignname\",\n",
    "        \"Impressions\",\n",
    "        \"Clicks\",\n",
    "        \"Cost_eur\",\n",
    "        \"SearchImpressionShare\"],\n",
    "        # \"max_rows\": 1000000,\n",
    "        \"max_rows\": 3,\n",
    "        \"api_key\": SUPERMETRICS_API_KEY\n",
    "}\n",
    "params = {\"json\": json.dumps(json_params)}\n",
    "r = requests.get(base_url, params=params)\n",
    "assert r.ok\n",
    "response_json = r.json()\n",
    "assert response_json[\"meta\"][\"status_code\"] == \"SUCCESS\"\n",
    "data = response_json[\"data\"]\n",
    "data"
   ]
  },
  {
   "cell_type": "code",
   "execution_count": 53,
   "id": "7c594d88",
   "metadata": {},
   "outputs": [
    {
     "data": {
      "text/html": [
       "<div>\n",
       "<style scoped>\n",
       "    .dataframe tbody tr th:only-of-type {\n",
       "        vertical-align: middle;\n",
       "    }\n",
       "\n",
       "    .dataframe tbody tr th {\n",
       "        vertical-align: top;\n",
       "    }\n",
       "\n",
       "    .dataframe thead th {\n",
       "        text-align: right;\n",
       "    }\n",
       "</style>\n",
       "<table border=\"1\" class=\"dataframe\">\n",
       "  <thead>\n",
       "    <tr style=\"text-align: right;\">\n",
       "      <th></th>\n",
       "      <th>Date</th>\n",
       "      <th>Account</th>\n",
       "      <th>Campaign name</th>\n",
       "      <th>Impressions</th>\n",
       "      <th>Clicks</th>\n",
       "      <th>Cost (EUR)</th>\n",
       "      <th>Search impression share</th>\n",
       "    </tr>\n",
       "  </thead>\n",
       "  <tbody>\n",
       "    <tr>\n",
       "      <th>0</th>\n",
       "      <td>2020-01-01</td>\n",
       "      <td>VELUXSCoE - FR</td>\n",
       "      <td>FR : 00 : Brand VELUX (Exact)</td>\n",
       "      <td>812</td>\n",
       "      <td>327</td>\n",
       "      <td>55.88</td>\n",
       "      <td>0.9409</td>\n",
       "    </tr>\n",
       "    <tr>\n",
       "      <th>1</th>\n",
       "      <td>2020-01-01</td>\n",
       "      <td>VELUXSCoE - FR</td>\n",
       "      <td>FR : 00 : Brand VELUX (PHRASE)</td>\n",
       "      <td>2406</td>\n",
       "      <td>266</td>\n",
       "      <td>198.39</td>\n",
       "      <td>0.3636</td>\n",
       "    </tr>\n",
       "    <tr>\n",
       "      <th>2</th>\n",
       "      <td>2020-01-01</td>\n",
       "      <td>VELUXSCoE - FR</td>\n",
       "      <td>FR : 01 : Brand VELUX Flat Roof Window - Coupoles</td>\n",
       "      <td>1</td>\n",
       "      <td>0</td>\n",
       "      <td>0.00</td>\n",
       "      <td>0.5000</td>\n",
       "    </tr>\n",
       "  </tbody>\n",
       "</table>\n",
       "</div>"
      ],
      "text/plain": [
       "         Date         Account  \\\n",
       "0  2020-01-01  VELUXSCoE - FR   \n",
       "1  2020-01-01  VELUXSCoE - FR   \n",
       "2  2020-01-01  VELUXSCoE - FR   \n",
       "\n",
       "                                       Campaign name  Impressions  Clicks  \\\n",
       "0                      FR : 00 : Brand VELUX (Exact)          812     327   \n",
       "1                     FR : 00 : Brand VELUX (PHRASE)         2406     266   \n",
       "2  FR : 01 : Brand VELUX Flat Roof Window - Coupoles            1       0   \n",
       "\n",
       "   Cost (EUR)  Search impression share  \n",
       "0       55.88                   0.9409  \n",
       "1      198.39                   0.3636  \n",
       "2        0.00                   0.5000  "
      ]
     },
     "execution_count": 53,
     "metadata": {},
     "output_type": "execute_result"
    }
   ],
   "source": [
    "import pandas as pd\n",
    "df = pd.DataFrame(data[1:], columns=data[0])\n",
    "df"
   ]
  },
  {
   "cell_type": "markdown",
   "id": "43a80749",
   "metadata": {},
   "source": [
    "## Building a flow"
   ]
  },
  {
   "cell_type": "code",
   "execution_count": 56,
   "id": "e6e16526",
   "metadata": {},
   "outputs": [
    {
     "name": "stdout",
     "output_type": "stream",
     "text": [
      "[2021-04-14 10:36:42+0000] INFO - prefect.FlowRunner | Beginning Flow run for 'Supermetrics'\n",
      "[2021-04-14 10:36:42+0000] INFO - prefect.TaskRunner | Task 'SUPERMETRICS_API_KEY': Starting task run...\n",
      "[2021-04-14 10:36:42+0000] INFO - prefect.TaskRunner | Task 'SUPERMETRICS_API_KEY': Finished task run for task with final state: 'Success'\n",
      "[2021-04-14 10:36:43+0000] INFO - prefect.TaskRunner | Task 'SUPERMETRICS_USER': Starting task run...\n",
      "[2021-04-14 10:36:43+0000] INFO - prefect.TaskRunner | Task 'SUPERMETRICS_USER': Finished task run for task with final state: 'Success'\n",
      "[2021-04-14 10:36:43+0000] INFO - prefect.TaskRunner | Task 'supermetrics_to_json': Starting task run...\n",
      "[2021-04-14 10:36:43+0000] INFO - prefect.supermetrics_to_json | Downloading !\n",
      "[2021-04-14 10:36:44+0000] INFO - prefect.TaskRunner | Task 'supermetrics_to_json': Finished task run for task with final state: 'Success'\n",
      "[2021-04-14 10:36:44+0000] INFO - prefect.TaskRunner | Task 'to_df': Starting task run...\n",
      "[2021-04-14 10:36:44+0000] INFO - prefect.TaskRunner | Task 'to_df': Finished task run for task with final state: 'Success'\n",
      "[2021-04-14 10:36:44+0000] INFO - prefect.TaskRunner | Task 'show_df': Starting task run...\n",
      "[2021-04-14 10:36:44+0000] INFO - prefect.show_df | Data:\n",
      "\n",
      "|    | Date       | Account        | Campaign name                                     |   Impressions |   Clicks |   Cost (EUR) |   Search impression share |\n",
      "|---:|:-----------|:---------------|:--------------------------------------------------|--------------:|---------:|-------------:|--------------------------:|\n",
      "|  0 | 2020-01-01 | VELUXSCoE - FR | FR : 00 : Brand VELUX (Exact)                     |           812 |      327 |        55.88 |                    0.9409 |\n",
      "|  1 | 2020-01-01 | VELUXSCoE - FR | FR : 00 : Brand VELUX (PHRASE)                    |          2406 |      266 |       198.39 |                    0.3636 |\n",
      "|  2 | 2020-01-01 | VELUXSCoE - FR | FR : 01 : Brand VELUX Flat Roof Window - Coupoles |             1 |        0 |         0    |                    0.5    |\n",
      "\n",
      "\n",
      "[2021-04-14 10:36:44+0000] INFO - prefect.TaskRunner | Task 'show_df': Finished task run for task with final state: 'Success'\n",
      "[2021-04-14 10:36:44+0000] INFO - prefect.FlowRunner | Flow run SUCCESS: all reference tasks succeeded\n"
     ]
    },
    {
     "data": {
      "text/plain": [
       "<Success: \"All reference tasks succeeded.\">"
      ]
     },
     "execution_count": 56,
     "metadata": {},
     "output_type": "execute_result"
    }
   ],
   "source": [
    "import prefect\n",
    "from prefect import task, Flow\n",
    "from prefect.storage import GitHub\n",
    "from prefect.run_configs import DockerRun\n",
    "from prefect.tasks.secrets import PrefectSecret\n",
    "\n",
    "import requests\n",
    "import urllib\n",
    "import json\n",
    "\n",
    "\n",
    "### Local run setup\n",
    "# os.environ[\"SUPERMETRICS_API_KEY\"] = \n",
    "os.environ[\"SUPERMETRICS_USER\"] = \"google@velux.com\"\n",
    "prefect.context.setdefault(\"secrets\", {})\n",
    "prefect.context.secrets[\"SUPERMETRICS_API_KEY\"] = os.environ[\"SUPERMETRICS_API_KEY\"]\n",
    "prefect.context.secrets[\"SUPERMETRICS_USER\"] = os.environ[\"SUPERMETRICS_USER\"]\n",
    "### \n",
    "\n",
    "### Production setup\n",
    "# STORAGE = GitHub(\n",
    "#     repo=\"dyvenia/platform\",\n",
    "#     path=\"prefect/flows/supermetrics.py\",\n",
    "#     access_token_secret=\"github_token\",  # name of the Prefect secret with the GitHub token\n",
    "# )\n",
    "\n",
    "# RUN_CONFIG = DockerRun(\n",
    "#     image=\"docker.pkg.github.com/dyvenia/platform/dyvenia:latest\",\n",
    "#     env={\"SOME_VAR\": \"value\"},\n",
    "#     labels=[\"velux\"],\n",
    "# )\n",
    "### \n",
    "\n",
    "@task\n",
    "def supermetrics_to_json(user, api_key):\n",
    "\n",
    "    logger = prefect.context.get(\"logger\")\n",
    "    logger.info(\"Downloading !\")\n",
    "\n",
    "    API_ENDPOINT = \"https://api.supermetrics.com/enterprise/v2/query/data/json\"\n",
    "    json_params = {\n",
    "            \"ds_id\": \"AW\",\n",
    "            \"ds_accounts\": [\"1007802423\"],\n",
    "            \"ds_user\": user,\n",
    "            \"date_range_type\": \"last_year_inc\",\n",
    "            \"fields\": [\"Date\",\n",
    "            \"profile\",\n",
    "            \"Campaignname\",\n",
    "            \"Impressions\",\n",
    "            \"Clicks\",\n",
    "            \"Cost_eur\",\n",
    "            \"SearchImpressionShare\"],\n",
    "            # \"max_rows\": 1000000,\n",
    "            \"max_rows\": 3,\n",
    "            \"api_key\": api_key\n",
    "    }\n",
    "    params = {\"json\": json.dumps(json_params)}\n",
    "    response = requests.get(API_ENDPOINT, params=params)\n",
    "    assert response.ok\n",
    "\n",
    "    response_json = response.json()\n",
    "    assert response_json[\"meta\"][\"status_code\"] == \"SUCCESS\"\n",
    "\n",
    "    data = response_json[\"data\"]\n",
    "    return data\n",
    "    \n",
    "@task\n",
    "def to_df(data):\n",
    "    import pandas as pd\n",
    "    df = pd.DataFrame(data[1:], columns=data[0])\n",
    "    return df\n",
    "\n",
    "@task\n",
    "def show_df(df):\n",
    "    logger = prefect.context.get(\"logger\")\n",
    "    logger.info(f\"Data:\\n\\n{df.to_markdown()}\\n\\n\")\n",
    "\n",
    "\n",
    "with Flow(\"Supermetrics\") as flow: # , storage=STORAGE, run_config=RUN_CONFIG) as flow:\n",
    "    SUPERMETRICS_API_KEY = PrefectSecret(\"SUPERMETRICS_API_KEY\")\n",
    "    SUPERMETRICS_USER = PrefectSecret(\"SUPERMETRICS_USER\")\n",
    "    data = supermetrics_to_json(user=SUPERMETRICS_USER, api_key=SUPERMETRICS_API_KEY)\n",
    "    df = to_df(data)\n",
    "    pretty_print = show_df(df)\n",
    "\n",
    "# flow.register(project_name=\"velux\")\n",
    "\n",
    "# if __name__ == \"__main__\":\n",
    "#     flow.run()\n",
    "flow.run()"
   ]
  },
  {
   "cell_type": "code",
   "execution_count": null,
   "id": "34a33d69",
   "metadata": {},
   "outputs": [],
   "source": []
  }
 ],
 "metadata": {
  "kernelspec": {
   "display_name": "Python 3",
   "language": "python",
   "name": "python3"
  },
  "language_info": {
   "codemirror_mode": {
    "name": "ipython",
    "version": 3
   },
   "file_extension": ".py",
   "mimetype": "text/x-python",
   "name": "python",
   "nbconvert_exporter": "python",
   "pygments_lexer": "ipython3",
   "version": "3.7.10"
  }
 },
 "nbformat": 4,
 "nbformat_minor": 5
}
