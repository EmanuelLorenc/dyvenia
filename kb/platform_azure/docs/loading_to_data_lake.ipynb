{
 "cells": [
  {
   "cell_type": "markdown",
   "id": "comparative-relations",
   "metadata": {},
   "source": [
    "## Read file"
   ]
  },
  {
   "cell_type": "code",
   "execution_count": null,
   "id": "simplified-philadelphia",
   "metadata": {},
   "outputs": [],
   "source": [
    "from azure.identity import ClientSecretCredential\n",
    "from azure.storage.filedatalake import DataLakeServiceClient\n",
    "import pyarrow.parquet as pq\n",
    "import io\n",
    "\n",
    "client_id = ''\n",
    "client_secret = ''\n",
    "tenant_id = ''\n",
    "credential = ClientSecretCredential(tenant_id, client_id, client_secret)\n",
    "\n",
    "storage_account_name = 'testadls05'\n",
    "service_client = DataLakeServiceClient(\n",
    "    account_url=\"https://{storage_account_name}.dfs.core.windows.net\", \n",
    "    credential=credential\n",
    ")\n",
    "file_system = '<container name>'\n",
    "file_system_client = service_client.get_file_system_client(file_system)\n",
    "\n",
    "file_path = ''\n",
    "file_client = file_system_client.get_file_client(file_path)\n",
    "data = file_client.download_file(0)\n",
    "with io.BytesIO() as b:\n",
    "    data.readinto(b)\n",
    "    table = pq.read_table(b)\n",
    "    print(table)"
   ]
  },
  {
   "cell_type": "markdown",
   "id": "indie-scholarship",
   "metadata": {},
   "source": [
    "## TODO\n",
    "- make this work\n",
    "- eventually will need a wrapper class around this mess\n",
    "- Check out how [this](https://github.com/kaaveland/pyarrowfs-adlgen2) library works"
   ]
  }
 ],
 "metadata": {
  "kernelspec": {
   "display_name": "Python 3",
   "language": "python",
   "name": "python3"
  },
  "language_info": {
   "codemirror_mode": {
    "name": "ipython",
    "version": 3
   },
   "file_extension": ".py",
   "mimetype": "text/x-python",
   "name": "python",
   "nbconvert_exporter": "python",
   "pygments_lexer": "ipython3",
   "version": "3.8.8"
  }
 },
 "nbformat": 4,
 "nbformat_minor": 5
}
